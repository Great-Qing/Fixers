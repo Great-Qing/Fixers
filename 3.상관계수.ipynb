{
 "cells": [
  {
   "cell_type": "code",
   "execution_count": 1,
   "id": "0f848874",
   "metadata": {},
   "outputs": [],
   "source": [
    "import pandas as pd\n",
    "import numpy as np\n",
    "import matplotlib.pyplot as plt\n",
    "from scipy.stats import norm\n",
    "import math\n",
    "import statsmodels.api as sm\n",
    "import statsmodels\n",
    "from sklearn.preprocessing import StandardScaler\n",
    "from dtaidistance import dtw\n",
    "from dtaidistance import dtw_visualisation as dtwvis\n",
    "from scipy import stats"
   ]
  },
  {
   "cell_type": "code",
   "execution_count": 2,
   "id": "585fc607",
   "metadata": {
    "scrolled": true
   },
   "outputs": [],
   "source": [
    "## CNH = 역외 위안화 환율\n",
    "CNH = pd.read_csv('C:/Users/nueva/Desktop/p1/test/USD_CNH 과거 데이터.csv')\n",
    "CNH_Ed = CNH.iloc[:, 1]\n",
    "CNH_St = CNH.iloc[:, 2]\n",
    "avg_CNH = (CNH_Ed + CNH_St) /2 \n",
    "\n",
    "## DNX = 달러 인덱스 \n",
    "DNX = pd.read_csv('C:/Users/nueva/Desktop/p1/test/달러 지수 과거 데이터.csv')\n",
    "DNX_Ed = DNX.iloc[:, 1]\n",
    "DNX_St = DNX.iloc[:, 2]\n",
    "avg_DNX = (DNX_Ed + DNX_St) /2 \n",
    "\n",
    "## EUR = 유로 \n",
    "EUR = pd.read_csv('C:/Users/nueva/Desktop/p1/test/EUR_USD 과거 데이터.csv')\n",
    "EUR_Ed = EUR.iloc[:, 1]\n",
    "EUR_St = EUR.iloc[:, 2]\n",
    "avg_EUR = (EUR_Ed + EUR_St) /2 \n",
    "\n",
    "## AUD = 호주 달러 \n",
    "AUD = pd.read_csv('C:/Users/nueva/Desktop/p1/test/AUD_USD 과거 데이터.csv')\n",
    "AUD_Ed = AUD.iloc[:, 1]\n",
    "AUD_St = AUD.iloc[:, 2]\n",
    "avg_AUD = (AUD_Ed + AUD_St) /2 \n",
    "\n",
    "## JPY = 엔화 \n",
    "JPY = pd.read_csv('C:/Users/nueva/Desktop/p1/test/USD_JPY 과거 데이터.csv')\n",
    "JPY_Ed = JPY.iloc[:, 1]\n",
    "JPY_St = JPY.iloc[:, 2]\n",
    "avg_JPY = (JPY_Ed + JPY_St) /2 "
   ]
  },
  {
   "cell_type": "code",
   "execution_count": 3,
   "id": "a67784af",
   "metadata": {},
   "outputs": [
    {
     "name": "stdout",
     "output_type": "stream",
     "text": [
      "PearsonRResult(statistic=0.480191294688311, pvalue=0.00018019895826280465)\n",
      "PearsonRResult(statistic=-0.41800395956783776, pvalue=0.0013475720714522486)\n",
      "PearsonRResult(statistic=-0.6714385919210363, pvalue=1.4784858304504333e-08)\n",
      "PearsonRResult(statistic=0.5483902047807565, pvalue=1.2120338219570719e-05)\n"
     ]
    }
   ],
   "source": [
    "##위안화와 다른 통화 간 상관계수 \n",
    "print(stats.pearsonr(avg_CNH,avg_DNX))                                    \n",
    "print(stats.pearsonr(avg_CNH,avg_EUR))\n",
    "print(stats.pearsonr(avg_CNH,avg_AUD))\n",
    "print(stats.pearsonr(avg_CNH,avg_JPY))\n",
    "\n",
    "##소결: 위안화와 다른 통화 간 상관관계가 모두 매우 높은 것으로 나타남.<br> 위안화는 달러와 엔화에 대해서는 양의 상관관계를, 유로와 호주달러에 대해서는 음의 상관관계를 보였음"
   ]
  },
  {
   "cell_type": "code",
   "execution_count": 4,
   "id": "2ff20648",
   "metadata": {},
   "outputs": [],
   "source": [
    "## GC = 금 선물\n",
    "GC = pd.read_csv('C:/Users/nueva/Desktop/p1/test/금 선물 과거 데이터.csv')\n",
    "GC_Ed = GC.iloc[:, 1]\n",
    "GC_St = GC.iloc[:, 2]\n",
    "avg_GC = (GC_Ed + GC_St) /2 \n",
    "\n",
    "## SI = 은 선물\n",
    "SI = pd.read_csv('C:/Users/nueva/Desktop/p1/test/은 선물 과거 데이터.csv')\n",
    "SI_Ed = SI.iloc[:, 1]\n",
    "SI_St = SI.iloc[:, 2]\n",
    "avg_SI = (SI_Ed + SI_St) /2 \n",
    "\n",
    "## WTI = WTI유 선물  \n",
    "WTI= pd.read_csv('C:/Users/nueva/Desktop/p1/test/WTI유 선물 과거 데이터.csv')\n",
    "WTI_Ed = WTI.iloc[:, 1]\n",
    "WTI_St = WTI.iloc[:, 2]\n",
    "avg_WTI = (WTI_Ed + WTI_St) /2 \n",
    "\n",
    "## HG = 구리 선물  \n",
    "HG= pd.read_csv('C:/Users/nueva/Desktop/p1/test/구리 선물 과거 데이터.csv')\n",
    "HG_Ed = HG.iloc[:, 1]\n",
    "HG_St = HG.iloc[:, 2]\n",
    "avg_HG = (HG_Ed + HG_St) /2 \n",
    "\n",
    "## NG = 천연가스 선물 \n",
    "NG = pd.read_csv('C:/Users/nueva/Desktop/p1/test/천연가스 선물 과거 데이터.csv')\n",
    "NG_Ed = NG.iloc[:, 1]\n",
    "NG_St = NG.iloc[:, 2]\n",
    "avg_NG = (NG_Ed + NG_St) /2 "
   ]
  },
  {
   "cell_type": "code",
   "execution_count": 5,
   "id": "3974045b",
   "metadata": {},
   "outputs": [
    {
     "name": "stdout",
     "output_type": "stream",
     "text": [
      "PearsonRResult(statistic=0.1522508233723731, pvalue=0.2626331137602351)\n",
      "PearsonRResult(statistic=-0.3957647709990739, pvalue=0.0025348184356197992)\n",
      "PearsonRResult(statistic=0.06218857061163263, pvalue=0.6488779441825037)\n",
      "PearsonRResult(statistic=-0.605967178949063, pvalue=7.465389965975342e-07)\n",
      "PearsonRResult(statistic=0.30229418242482375, pvalue=0.02354927712531975)\n"
     ]
    }
   ],
   "source": [
    "##위안화와 원자재 간 상관계수 \n",
    "print(stats.pearsonr(avg_CNH,avg_GC))\n",
    "print(stats.pearsonr(avg_CNH,avg_SI))\n",
    "print(stats.pearsonr(avg_CNH,avg_WTI))\n",
    "print(stats.pearsonr(avg_CNH,avg_HG))\n",
    "print(stats.pearsonr(avg_CNH,avg_NG))\n",
    "\n",
    "##소결: 위안화와 금,원유 간 유의미한 상관관계가 도출되지 않음 <br> 한편, 은, 구리, 천연가스는 위안화와 유의미한 상관관계가 도출되었으며 <br> 은과 구리는 음의 상관관계, 천연가스는 양의 상관관계가 도출됨 "
   ]
  }
 ],
 "metadata": {
  "kernelspec": {
   "display_name": "Python 3 (ipykernel)",
   "language": "python",
   "name": "python3"
  },
  "language_info": {
   "codemirror_mode": {
    "name": "ipython",
    "version": 3
   },
   "file_extension": ".py",
   "mimetype": "text/x-python",
   "name": "python",
   "nbconvert_exporter": "python",
   "pygments_lexer": "ipython3",
   "version": "3.10.9"
  }
 },
 "nbformat": 4,
 "nbformat_minor": 5
}
