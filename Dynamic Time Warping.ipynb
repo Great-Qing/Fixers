{
 "cells": [
  {
   "cell_type": "code",
   "execution_count": 105,
   "id": "8d9faef7",
   "metadata": {},
   "outputs": [],
   "source": [
    "import pandas as pd\n",
    "import numpy as np\n",
    "import matplotlib.pyplot as plt\n",
    "from scipy.stats import norm\n",
    "import math\n",
    "import statsmodels.api as sm\n",
    "import statsmodels\n",
    "from sklearn.preprocessing import StandardScaler\n",
    "from dtaidistance import dtw\n",
    "from dtaidistance import dtw_visualisation as dtwvis"
   ]
  },
  {
   "cell_type": "code",
   "execution_count": 106,
   "id": "701f5635",
   "metadata": {},
   "outputs": [],
   "source": [
    "##주의\n",
    "# 시작일 2023.8.16\n",
    "# 종료일 2023.11.2\n",
    "# 2023.8.16이 칼럼의 최상단에 위치해야 함. csv에서 값 정렬한 뒤 input 할 것"
   ]
  },
  {
   "cell_type": "code",
   "execution_count": 107,
   "id": "75d5c041",
   "metadata": {},
   "outputs": [],
   "source": [
    "## 원시 데이터 입력_사용자용: 개별 저장 후 불러올 것\n",
    "CNH_df = pd.read_csv('C:/Muzin/Fixers_C/USD_CNH 과거 데이터.csv')\n",
    "\n",
    "## CNH 시간, 종가, 시가, 고가, 저가 분리\n",
    "CNH_df_Time = CNH_df.iloc[:, 0]\n",
    "CNH_df_Ed = CNH_df.iloc[:, 1]\n",
    "CNH_df_St = CNH_df.iloc[:, 2]\n",
    "CNH_df_Hi = CNH_df.iloc[:, 3]\n",
    "CNH_df_Lw = CNH_df.iloc[:, 4]\n",
    "\n",
    "## CNH array 형 변환 및 Fit_transform\n",
    "data_arrays = [CNH_df_Ed, CNH_df_St, CNH_df_Hi, CNH_df_Lw]\n",
    "scaler = StandardScaler()\n",
    "scaled_data = []\n",
    "for data in data_arrays:\n",
    "    data = np.array(data).reshape(-1, 1)  # 데이터를 2D 배열로 변환\n",
    "    scaled_data.append(scaler.fit_transform(data))"
   ]
  },
  {
   "cell_type": "code",
   "execution_count": 110,
   "id": "33372ec8",
   "metadata": {
    "scrolled": true
   },
   "outputs": [
    {
     "data": {
      "text/plain": [
       "[array([[3.569],\n",
       "        [3.557],\n",
       "        [3.547],\n",
       "        [3.545],\n",
       "        [3.54 ],\n",
       "        [3.56 ],\n",
       "        [3.572],\n",
       "        [3.565],\n",
       "        [3.563],\n",
       "        [3.564],\n",
       "        [3.577],\n",
       "        [3.62 ],\n",
       "        [3.567],\n",
       "        [3.545],\n",
       "        [3.51 ],\n",
       "        [3.496],\n",
       "        [3.54 ],\n",
       "        [3.593],\n",
       "        [3.602],\n",
       "        [3.597],\n",
       "        [3.592],\n",
       "        [3.587],\n",
       "        [3.58 ],\n",
       "        [3.583],\n",
       "        [3.609],\n",
       "        [3.619],\n",
       "        [3.594],\n",
       "        [3.618],\n",
       "        [3.63 ],\n",
       "        [3.62 ],\n",
       "        [3.829],\n",
       "        [3.555],\n",
       "        [3.527],\n",
       "        [3.502],\n",
       "        [3.471],\n",
       "        [3.473],\n",
       "        [3.512],\n",
       "        [3.542],\n",
       "        [3.518],\n",
       "        [3.493],\n",
       "        [3.492],\n",
       "        [3.505],\n",
       "        [3.523],\n",
       "        [3.538],\n",
       "        [3.531],\n",
       "        [3.561],\n",
       "        [3.556],\n",
       "        [3.494],\n",
       "        [3.515],\n",
       "        [3.5  ],\n",
       "        [3.516],\n",
       "        [3.49 ]]),\n",
       " array([[ 2.33137663e-01],\n",
       "        [ 2.04506722e-02],\n",
       "        [-1.56788487e-01],\n",
       "        [-1.92236319e-01],\n",
       "        [-2.80855899e-01],\n",
       "        [ 7.36224200e-02],\n",
       "        [ 2.86309411e-01],\n",
       "        [ 1.62242000e-01],\n",
       "        [ 1.26794168e-01],\n",
       "        [ 1.44518084e-01],\n",
       "        [ 3.74928991e-01],\n",
       "        [ 1.13705738e+00],\n",
       "        [ 1.97689832e-01],\n",
       "        [-1.92236319e-01],\n",
       "        [-8.12573377e-01],\n",
       "        [-1.06070820e+00],\n",
       "        [-2.80855899e-01],\n",
       "        [ 6.58511646e-01],\n",
       "        [ 8.18026889e-01],\n",
       "        [ 7.29407310e-01],\n",
       "        [ 6.40787730e-01],\n",
       "        [ 5.52168150e-01],\n",
       "        [ 4.28100739e-01],\n",
       "        [ 4.81272487e-01],\n",
       "        [ 9.42094301e-01],\n",
       "        [ 1.11933346e+00],\n",
       "        [ 6.76235562e-01],\n",
       "        [ 1.10160954e+00],\n",
       "        [ 1.31429654e+00],\n",
       "        [ 1.13705738e+00],\n",
       "        [ 4.84135581e+00],\n",
       "        [-1.49971596e-02],\n",
       "        [-5.11266806e-01],\n",
       "        [-9.54364704e-01],\n",
       "        [-1.50380610e+00],\n",
       "        [-1.46835827e+00],\n",
       "        [-7.77125545e-01],\n",
       "        [-2.45408067e-01],\n",
       "        [-6.70782049e-01],\n",
       "        [-1.11387995e+00],\n",
       "        [-1.13160386e+00],\n",
       "        [-9.01192957e-01],\n",
       "        [-5.82162470e-01],\n",
       "        [-3.16303731e-01],\n",
       "        [-4.40371142e-01],\n",
       "        [ 9.13463360e-02],\n",
       "        [ 2.72675630e-03],\n",
       "        [-1.09615603e+00],\n",
       "        [-7.23953797e-01],\n",
       "        [-9.89812536e-01],\n",
       "        [-7.06229881e-01],\n",
       "        [-1.16705170e+00]])]"
      ]
     },
     "execution_count": 110,
     "metadata": {},
     "output_type": "execute_result"
    }
   ],
   "source": [
    "## 거시경제 데이터 입력_사용자용\n",
    "Ex1 = pd.read_csv('C:/Muzin/Fixers_C/한국시장금리(일별)_03195917.csv')\n",
    "\n",
    "## Ex1 데이터 분리_사용자용\n",
    "Ex1_Time = Ex1.iloc[:,0].copy()\n",
    "Ex1_Time = np.array(Ex1_Time)\n",
    "Ex1_dt = Ex1.iloc[:,1].copy()\n",
    "Ex1_dt = np.array(Ex1_dt)\n",
    "\n",
    "## Ex1 데이터 fit and transform\n",
    "Ex1_dt = np.array(Ex1_dt).reshape(-1, 1)\n",
    "Ex1_dt_trs = sc.fit_transform(Ex1_dt)\n",
    "\n",
    "## 데이터 확인\n",
    "Example_Data = [Ex1_dt,Ex1_dt_trs]\n",
    "Example_Data"
   ]
  },
  {
   "cell_type": "code",
   "execution_count": 111,
   "id": "aaf7b620",
   "metadata": {},
   "outputs": [
    {
     "name": "stdout",
     "output_type": "stream",
     "text": [
      "[6.7955962882961725, 6.654685518841572, 6.47493163831294, 7.442520323678884]\n"
     ]
    }
   ],
   "source": [
    "## DTW 실행 및 Score 확인 \n",
    "Distance_Day = []\n",
    "for i in range(4):\n",
    "    Distance_Ed = dtw.distance(scaled_data[i], Ex1_dt_trs)\n",
    "    Distance_Day.append(Distance_Ed)\n",
    "print(Distance_Day)"
   ]
  }
 ],
 "metadata": {
  "kernelspec": {
   "display_name": "Python 3 (ipykernel)",
   "language": "python",
   "name": "python3"
  },
  "language_info": {
   "codemirror_mode": {
    "name": "ipython",
    "version": 3
   },
   "file_extension": ".py",
   "mimetype": "text/x-python",
   "name": "python",
   "nbconvert_exporter": "python",
   "pygments_lexer": "ipython3",
   "version": "3.11.4"
  }
 },
 "nbformat": 4,
 "nbformat_minor": 5
}
